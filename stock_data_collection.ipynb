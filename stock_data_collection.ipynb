{
 "cells": [
  {
   "cell_type": "code",
   "execution_count": 1,
   "metadata": {},
   "outputs": [],
   "source": [
    "%matplotlib inline\n",
    "\n",
    "import matplotlib.pyplot as plt\n",
    "import warnings\n",
    "\n",
    "plt.style.use('seaborn')\n",
    "warnings.simplefilter(action='ignore', category=FutureWarning)"
   ]
  },
  {
   "cell_type": "markdown",
   "metadata": {},
   "source": [
    "## A guilde to downloading data"
   ]
  },
  {
   "cell_type": "markdown",
   "metadata": {},
   "source": [
    "#### Import Libraries needed"
   ]
  },
  {
   "cell_type": "code",
   "execution_count": 2,
   "metadata": {},
   "outputs": [],
   "source": [
    "import pandas as pd\n",
    "import yfinance as yf\n",
    "from yahoofinancials import YahooFinancials"
   ]
  },
  {
   "cell_type": "markdown",
   "metadata": {},
   "source": [
    "#### Downloading the data using yfinance\n",
    "\n",
    "Given a ticker you can use the download function to get stock pricing data"
   ]
  },
  {
   "cell_type": "code",
   "execution_count": 6,
   "metadata": {},
   "outputs": [
    {
     "data": {
      "text/html": [
       "<div>\n",
       "<style scoped>\n",
       "    .dataframe tbody tr th:only-of-type {\n",
       "        vertical-align: middle;\n",
       "    }\n",
       "\n",
       "    .dataframe tbody tr th {\n",
       "        vertical-align: top;\n",
       "    }\n",
       "\n",
       "    .dataframe thead th {\n",
       "        text-align: right;\n",
       "    }\n",
       "</style>\n",
       "<table border=\"1\" class=\"dataframe\">\n",
       "  <thead>\n",
       "    <tr style=\"text-align: right;\">\n",
       "      <th></th>\n",
       "      <th>Open</th>\n",
       "      <th>High</th>\n",
       "      <th>Low</th>\n",
       "      <th>Close</th>\n",
       "      <th>Adj Close</th>\n",
       "      <th>Volume</th>\n",
       "    </tr>\n",
       "    <tr>\n",
       "      <th>Date</th>\n",
       "      <th></th>\n",
       "      <th></th>\n",
       "      <th></th>\n",
       "      <th></th>\n",
       "      <th></th>\n",
       "      <th></th>\n",
       "    </tr>\n",
       "  </thead>\n",
       "  <tbody>\n",
       "    <tr>\n",
       "      <th>2016-03-31</th>\n",
       "      <td>2.31</td>\n",
       "      <td>2.835</td>\n",
       "      <td>2.31</td>\n",
       "      <td>2.70</td>\n",
       "      <td>2.407792</td>\n",
       "      <td>81900</td>\n",
       "    </tr>\n",
       "    <tr>\n",
       "      <th>2016-04-01</th>\n",
       "      <td>2.60</td>\n",
       "      <td>2.690</td>\n",
       "      <td>2.47</td>\n",
       "      <td>2.63</td>\n",
       "      <td>2.345368</td>\n",
       "      <td>47900</td>\n",
       "    </tr>\n",
       "    <tr>\n",
       "      <th>2016-04-04</th>\n",
       "      <td>2.63</td>\n",
       "      <td>2.630</td>\n",
       "      <td>2.63</td>\n",
       "      <td>2.63</td>\n",
       "      <td>2.345368</td>\n",
       "      <td>0</td>\n",
       "    </tr>\n",
       "    <tr>\n",
       "      <th>2016-04-05</th>\n",
       "      <td>2.88</td>\n",
       "      <td>3.300</td>\n",
       "      <td>2.69</td>\n",
       "      <td>3.02</td>\n",
       "      <td>2.693160</td>\n",
       "      <td>223900</td>\n",
       "    </tr>\n",
       "    <tr>\n",
       "      <th>2016-04-06</th>\n",
       "      <td>3.09</td>\n",
       "      <td>3.180</td>\n",
       "      <td>2.85</td>\n",
       "      <td>2.98</td>\n",
       "      <td>2.657489</td>\n",
       "      <td>20600</td>\n",
       "    </tr>\n",
       "  </tbody>\n",
       "</table>\n",
       "</div>"
      ],
      "text/plain": [
       "            Open   High   Low  Close  Adj Close  Volume\n",
       "Date                                                   \n",
       "2016-03-31  2.31  2.835  2.31   2.70   2.407792   81900\n",
       "2016-04-01  2.60  2.690  2.47   2.63   2.345368   47900\n",
       "2016-04-04  2.63  2.630  2.63   2.63   2.345368       0\n",
       "2016-04-05  2.88  3.300  2.69   3.02   2.693160  223900\n",
       "2016-04-06  3.09  3.180  2.85   2.98   2.657489   20600"
      ]
     },
     "execution_count": 6,
     "metadata": {},
     "output_type": "execute_result"
    }
   ],
   "source": [
    "ticker = 'RIOT'\n",
    "df = yf.download(ticker, progress=False) # without the dates returns all possible\n",
    "df.head()"
   ]
  },
  {
   "cell_type": "markdown",
   "metadata": {},
   "source": [
    "You can also use the Ticker class to collect data as well."
   ]
  },
  {
   "cell_type": "code",
   "execution_count": 5,
   "metadata": {},
   "outputs": [
    {
     "data": {
      "image/png": "[encoded data removed]",
      "text/plain": [
       "<Figure size 576x396 with 1 Axes>"
      ]
     },
     "metadata": {},
     "output_type": "display_data"
    }
   ],
   "source": [
    "ticker_cd = 'RIOT'\n",
    "ticker = yf.Ticker('RIOT')\n",
    "\n",
    "df = ticker.history(period=\"max\")\n",
    "\n",
    "df['Close'].plot(title=\"RIOT's stock price\")"
   ]
  },
  {
   "cell_type": "markdown",
   "metadata": {},
   "source": [
    "#### Downloading the data using yahoofinancials\n",
    "\n",
    "As the name suggests there are similarities based on where the data is pulled, but with yahoofinancials you can also pull data to help determine the value of the company and understand how healthy it is. "
   ]
  },
  {
   "cell_type": "code",
   "execution_count": 10,
   "metadata": {},
   "outputs": [
    {
     "data": {
      "text/html": [
       "<div>\n",
       "<style scoped>\n",
       "    .dataframe tbody tr th:only-of-type {\n",
       "        vertical-align: middle;\n",
       "    }\n",
       "\n",
       "    .dataframe tbody tr th {\n",
       "        vertical-align: top;\n",
       "    }\n",
       "\n",
       "    .dataframe thead th {\n",
       "        text-align: right;\n",
       "    }\n",
       "</style>\n",
       "<table border=\"1\" class=\"dataframe\">\n",
       "  <thead>\n",
       "    <tr style=\"text-align: right;\">\n",
       "      <th></th>\n",
       "      <th>high</th>\n",
       "      <th>low</th>\n",
       "      <th>open</th>\n",
       "      <th>close</th>\n",
       "      <th>volume</th>\n",
       "      <th>adjclose</th>\n",
       "    </tr>\n",
       "    <tr>\n",
       "      <th>formatted_date</th>\n",
       "      <th></th>\n",
       "      <th></th>\n",
       "      <th></th>\n",
       "      <th></th>\n",
       "      <th></th>\n",
       "      <th></th>\n",
       "    </tr>\n",
       "  </thead>\n",
       "  <tbody>\n",
       "    <tr>\n",
       "      <th>2016-03-28</th>\n",
       "      <td>2.835</td>\n",
       "      <td>2.31</td>\n",
       "      <td>2.31</td>\n",
       "      <td>2.63</td>\n",
       "      <td>129800</td>\n",
       "      <td>2.345368</td>\n",
       "    </tr>\n",
       "    <tr>\n",
       "      <th>2016-04-04</th>\n",
       "      <td>3.300</td>\n",
       "      <td>2.63</td>\n",
       "      <td>2.63</td>\n",
       "      <td>2.97</td>\n",
       "      <td>397500</td>\n",
       "      <td>2.648571</td>\n",
       "    </tr>\n",
       "    <tr>\n",
       "      <th>2016-04-11</th>\n",
       "      <td>3.160</td>\n",
       "      <td>2.86</td>\n",
       "      <td>2.99</td>\n",
       "      <td>3.03</td>\n",
       "      <td>326500</td>\n",
       "      <td>2.702078</td>\n",
       "    </tr>\n",
       "    <tr>\n",
       "      <th>2016-04-18</th>\n",
       "      <td>3.125</td>\n",
       "      <td>2.96</td>\n",
       "      <td>3.05</td>\n",
       "      <td>3.07</td>\n",
       "      <td>100800</td>\n",
       "      <td>2.737749</td>\n",
       "    </tr>\n",
       "    <tr>\n",
       "      <th>2016-04-25</th>\n",
       "      <td>3.180</td>\n",
       "      <td>2.80</td>\n",
       "      <td>3.02</td>\n",
       "      <td>3.09</td>\n",
       "      <td>84800</td>\n",
       "      <td>2.755584</td>\n",
       "    </tr>\n",
       "  </tbody>\n",
       "</table>\n",
       "</div>"
      ],
      "text/plain": [
       "                 high   low  open  close  volume  adjclose\n",
       "formatted_date                                            \n",
       "2016-03-28      2.835  2.31  2.31   2.63  129800  2.345368\n",
       "2016-04-04      3.300  2.63  2.63   2.97  397500  2.648571\n",
       "2016-04-11      3.160  2.86  2.99   3.03  326500  2.702078\n",
       "2016-04-18      3.125  2.96  3.05   3.07  100800  2.737749\n",
       "2016-04-25      3.180  2.80  3.02   3.09   84800  2.755584"
      ]
     },
     "execution_count": 10,
     "metadata": {},
     "output_type": "execute_result"
    }
   ],
   "source": [
    "ticker = 'RIOT'\n",
    "yahoo_financials = YahooFinancials(ticker)\n",
    "\n",
    "data = yahoo_financials.get_historical_price_data(start_date='2008-01-01', end_date='2021-02-28', time_interval='weekly')\n",
    "\n",
    "tsla_df = pd.DataFrame(data[ticker]['prices'])\n",
    "tsla_df = tsla_df.drop('date', axis=1).set_index('formatted_date')\n",
    "tsla_df.head()"
   ]
  },
  {
   "cell_type": "markdown",
   "metadata": {},
   "source": [
    "The folllowing uses one of the many methods built in the library. For more information check out the documentation at [yahoofinancials](https://pypi.org/project/yahoofinancials/)."
   ]
  },
  {
   "cell_type": "code",
   "execution_count": 11,
   "metadata": {},
   "outputs": [
    {
     "data": {
      "text/plain": [
       "{'RIOT': {'exchange': 'NMS',\n",
       "  'shortName': 'Riot Blockchain, Inc',\n",
       "  'longName': 'Riot Blockchain, Inc.',\n",
       "  'exchangeTimezoneName': 'America/New_York',\n",
       "  'exchangeTimezoneShortName': 'EDT',\n",
       "  'isEsgPopulated': False,\n",
       "  'gmtOffSetMilliseconds': '-14400000',\n",
       "  'quoteType': 'EQUITY',\n",
       "  'symbol': 'RIOT',\n",
       "  'messageBoardId': 'finmb_1532998',\n",
       "  'market': 'us_market'}}"
      ]
     },
     "execution_count": 11,
     "metadata": {},
     "output_type": "execute_result"
    }
   ],
   "source": [
    "yahoo_financials.get_stock_quote_type_data()"
   ]
  },
  {
   "cell_type": "markdown",
   "metadata": {},
   "source": [
    "Expanding on the data collection function provided above we can also look at multiple tickers if we know what we are looking for. The following shows how to get the closing price of 5 stocks and plots them in a single chart. "
   ]
  },
  {
   "cell_type": "markdown",
   "metadata": {},
   "source": [
    "#### Plotting multiple tickers\n",
    "\n",
    "First we define stocks that we want to look at"
   ]
  },
  {
   "cell_type": "code",
   "execution_count": null,
   "metadata": {},
   "outputs": [],
   "source": [
    "portfolio = ['WM','TSLA','SPY','SHOP', 'LULU']"
   ]
  },
  {
   "cell_type": "markdown",
   "metadata": {},
   "source": [
    "First using the yfinance method we can download all the data based on the variable we specify. The variables can be chosen from the following:\n",
    "\n",
    "- Open\n",
    "- High\n",
    "- Low\n",
    "- Close\n",
    "- Adj Close\n",
    "- Volumne"
   ]
  },
  {
   "cell_type": "code",
   "execution_count": 16,
   "metadata": {},
   "outputs": [
    {
     "name": "stdout",
     "output_type": "stream",
     "text": [
      "[*********************100%***********************]  5 of 5 completed\n"
     ]
    },
    {
     "data": {
      "text/html": [
       "<div>\n",
       "<style scoped>\n",
       "    .dataframe tbody tr th:only-of-type {\n",
       "        vertical-align: middle;\n",
       "    }\n",
       "\n",
       "    .dataframe tbody tr th {\n",
       "        vertical-align: top;\n",
       "    }\n",
       "\n",
       "    .dataframe thead th {\n",
       "        text-align: right;\n",
       "    }\n",
       "</style>\n",
       "<table border=\"1\" class=\"dataframe\">\n",
       "  <thead>\n",
       "    <tr style=\"text-align: right;\">\n",
       "      <th></th>\n",
       "      <th>LULU</th>\n",
       "      <th>SHOP</th>\n",
       "      <th>SPY</th>\n",
       "      <th>TSLA</th>\n",
       "      <th>WM</th>\n",
       "    </tr>\n",
       "    <tr>\n",
       "      <th>Date</th>\n",
       "      <th></th>\n",
       "      <th></th>\n",
       "      <th></th>\n",
       "      <th></th>\n",
       "      <th></th>\n",
       "    </tr>\n",
       "  </thead>\n",
       "  <tbody>\n",
       "    <tr>\n",
       "      <th>2021-03-15</th>\n",
       "      <td>314.320007</td>\n",
       "      <td>1159.000000</td>\n",
       "      <td>396.410004</td>\n",
       "      <td>707.940002</td>\n",
       "      <td>122.620003</td>\n",
       "    </tr>\n",
       "    <tr>\n",
       "      <th>2021-03-16</th>\n",
       "      <td>308.750000</td>\n",
       "      <td>1143.170044</td>\n",
       "      <td>395.910004</td>\n",
       "      <td>676.880005</td>\n",
       "      <td>122.910004</td>\n",
       "    </tr>\n",
       "    <tr>\n",
       "      <th>2021-03-17</th>\n",
       "      <td>315.220001</td>\n",
       "      <td>1169.170044</td>\n",
       "      <td>397.260010</td>\n",
       "      <td>701.809998</td>\n",
       "      <td>118.989998</td>\n",
       "    </tr>\n",
       "    <tr>\n",
       "      <th>2021-03-18</th>\n",
       "      <td>306.350006</td>\n",
       "      <td>1117.099976</td>\n",
       "      <td>391.480011</td>\n",
       "      <td>653.159973</td>\n",
       "      <td>121.900002</td>\n",
       "    </tr>\n",
       "    <tr>\n",
       "      <th>2021-03-19</th>\n",
       "      <td>308.709991</td>\n",
       "      <td>1120.949951</td>\n",
       "      <td>389.480011</td>\n",
       "      <td>654.869995</td>\n",
       "      <td>121.570000</td>\n",
       "    </tr>\n",
       "  </tbody>\n",
       "</table>\n",
       "</div>"
      ],
      "text/plain": [
       "                  LULU         SHOP         SPY        TSLA          WM\n",
       "Date                                                                   \n",
       "2021-03-15  314.320007  1159.000000  396.410004  707.940002  122.620003\n",
       "2021-03-16  308.750000  1143.170044  395.910004  676.880005  122.910004\n",
       "2021-03-17  315.220001  1169.170044  397.260010  701.809998  118.989998\n",
       "2021-03-18  306.350006  1117.099976  391.480011  653.159973  121.900002\n",
       "2021-03-19  308.709991  1120.949951  389.480011  654.869995  121.570000"
      ]
     },
     "execution_count": 16,
     "metadata": {},
     "output_type": "execute_result"
    }
   ],
   "source": [
    "data = yf.download(portfolio)['Close']\n",
    "data.tail()"
   ]
  },
  {
   "cell_type": "code",
   "execution_count": 15,
   "metadata": {},
   "outputs": [
    {
     "name": "stdout",
     "output_type": "stream",
     "text": [
      "[*********************100%***********************]  5 of 5 completed\n"
     ]
    },
    {
     "data": {
      "text/plain": [
       "<AxesSubplot:xlabel='Date'>"
      ]
     },
     "execution_count": 15,
     "metadata": {},
     "output_type": "execute_result"
    },
    {
     "data": {
      "image/png": "[encoded data removed]",
      "text/plain": [
       "<Figure size 576x396 with 1 Axes>"
      ]
     },
     "metadata": {},
     "output_type": "display_data"
    }
   ],
   "source": [
    "data.plot()"
   ]
  },
  {
   "cell_type": "markdown",
   "metadata": {},
   "source": [
    "This plot seems to show us that the prices for Shopify & Tesla have an exponential like increase in price. SPY, which is the former Standard & Poor's Depositary Receipts has a steady increase up to around $390, which Lululemon has been catching up to. The chart above could look different by setting the timeframe. \n",
    "\n",
    "In the following we use the [yahoo_financials](https://pypi.org/project/yahoofinancials/) methods and specifying the dates to see a different view of the timeseries. When the dates are not aligned across all tickers there may be more than 1 plot generated. "
   ]
  },
  {
   "cell_type": "code",
   "execution_count": 26,
   "metadata": {},
   "outputs": [
    {
     "data": {
      "text/plain": [
       "<AxesSubplot:>"
      ]
     },
     "execution_count": 26,
     "metadata": {},
     "output_type": "execute_result"
    },
    {
     "data": {
      "image/png": "[encoded data removed]",
      "text/plain": [
       "<Figure size 576x396 with 1 Axes>"
      ]
     },
     "metadata": {},
     "output_type": "display_data"
    }
   ],
   "source": [
    "yahoo_financials = YahooFinancials(portfolio)\n",
    "\n",
    "data = yahoo_financials.get_historical_price_data(start_date='2016-01-01', \n",
    "                                                  end_date='2021-03-19', \n",
    "                                                  time_interval='weekly')\n",
    "\n",
    "prices_df = pd.DataFrame({a: {x['formatted_date']: x['adjclose'] for x in data[a]['prices']} for a in portfolio})\n",
    "#prices_df.head()\n",
    "prices_df.plot()"
   ]
  }
 ],
 "metadata": {
  "kernelspec": {
   "display_name": "Python 3",
   "language": "python",
   "name": "python3"
  },
  "language_info": {
   "codemirror_mode": {
    "name": "ipython",
    "version": 3
   },
   "file_extension": ".py",
   "mimetype": "text/x-python",
   "name": "python",
   "nbconvert_exporter": "python",
   "pygments_lexer": "ipython3",
   "version": "3.8.5"
  }
 },
 "nbformat": 4,
 "nbformat_minor": 4
}
